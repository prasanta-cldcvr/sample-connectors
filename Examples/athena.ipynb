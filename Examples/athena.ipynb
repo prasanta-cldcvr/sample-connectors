{
 "cells": [
  {
   "attachments": {},
   "cell_type": "markdown",
   "metadata": {},
   "source": [
    "# AWS-Athena Sample connector"
   ]
  },
  {
   "cell_type": "code",
   "execution_count": null,
   "metadata": {},
   "outputs": [],
   "source": [
    "!pip install boto3\n",
    "import boto3"
   ]
  },
  {
   "cell_type": "code",
   "execution_count": null,
   "metadata": {},
   "outputs": [],
   "source": [
    "class AthenaConnector:\n",
    "    def __init__(self, database, output_bucket):\n",
    "        self.database = database\n",
    "        self.output_bucket = output_bucket\n",
    "        self.client = boto3.client('athena')\n",
    "    \n",
    "    def run_query(self, query):\n",
    "        response = self.client.start_query_execution(\n",
    "            QueryString=query,\n",
    "            QueryExecutionContext={\n",
    "                'Database': self.database\n",
    "            },\n",
    "            ResultConfiguration={\n",
    "                'OutputLocation': f's3://{self.output_bucket}/'\n",
    "            }\n",
    "        )\n",
    "        query_execution_id = response['QueryExecutionId']\n",
    "        return query_execution_id\n",
    "    \n",
    "    def get_query_status(self, query_execution_id):\n",
    "        response = self.client.get_query_execution(\n",
    "            QueryExecutionId=query_execution_id\n",
    "        )\n",
    "        return response['QueryExecution']['Status']['State']\n",
    "    \n",
    "    def get_query_results(self, query_execution_id):\n",
    "        response = self.client.get_query_results(\n",
    "            QueryExecutionId=query_execution_id\n",
    "        )\n",
    "        result_set = response['ResultSet']\n",
    "        columns = [column['Name'] for column in result_set['ResultSetMetadata']['ColumnInfo']]\n",
    "        rows = [[data['VarCharValue'] for data in row['Data']] for row in result_set['Rows']]\n",
    "        return columns, rows\n",
    "    \n",
    "    # Define other methods or functions for your Athena connector\n",
    "    # ...\n"
   ]
  },
  {
   "cell_type": "code",
   "execution_count": null,
   "metadata": {},
   "outputs": [],
   "source": []
  }
 ],
 "metadata": {
  "kernelspec": {
   "display_name": "Python 3",
   "language": "python",
   "name": "python3"
  },
  "language_info": {
   "name": "python",
   "version": "3.8.10"
  },
  "orig_nbformat": 4
 },
 "nbformat": 4,
 "nbformat_minor": 2
}
